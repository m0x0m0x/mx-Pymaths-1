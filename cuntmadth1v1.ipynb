{
 "cells": [
  {
   "cell_type": "markdown",
   "id": "f34ce048",
   "metadata": {
    "_cell_guid": "b1076dfc-b9ad-4769-8c92-a6c4dae69d19",
    "_uuid": "8f2839f25d086af736a60e9eeb907d3b93b6e0e5",
    "papermill": {
     "duration": 0.003104,
     "end_time": "2024-03-23T12:17:56.931077",
     "exception": false,
     "start_time": "2024-03-23T12:17:56.927973",
     "status": "completed"
    },
    "tags": []
   },
   "source": [
    "<img src=\"https://i.postimg.cc/j25jCmKY/image.png\" width=\"10%\">\n",
    "\n",
    "# Math with python\n",
    "> Testing various math related here\n"
   ]
  },
  {
   "cell_type": "markdown",
   "id": "22166c13",
   "metadata": {
    "execution": {
     "iopub.execute_input": "2024-03-23T12:06:00.024603Z",
     "iopub.status.busy": "2024-03-23T12:06:00.024107Z",
     "iopub.status.idle": "2024-03-23T12:06:00.051559Z",
     "shell.execute_reply": "2024-03-23T12:06:00.050196Z",
     "shell.execute_reply.started": "2024-03-23T12:06:00.024561Z"
    },
    "papermill": {
     "duration": 0.002343,
     "end_time": "2024-03-23T12:17:56.936253",
     "exception": false,
     "start_time": "2024-03-23T12:17:56.933910",
     "status": "completed"
    },
    "tags": []
   },
   "source": [
    "## Python Beautify"
   ]
  },
  {
   "cell_type": "code",
   "execution_count": 1,
   "id": "1aae3d2f",
   "metadata": {
    "execution": {
     "iopub.execute_input": "2024-03-23T12:17:56.943612Z",
     "iopub.status.busy": "2024-03-23T12:17:56.943186Z",
     "iopub.status.idle": "2024-03-23T12:17:57.081087Z",
     "shell.execute_reply": "2024-03-23T12:17:57.079835Z"
    },
    "papermill": {
     "duration": 0.145472,
     "end_time": "2024-03-23T12:17:57.084451",
     "exception": false,
     "start_time": "2024-03-23T12:17:56.938979",
     "status": "completed"
    },
    "scrolled": true,
    "tags": []
   },
   "outputs": [],
   "source": [
    "# ------------------------------------------------------\n",
    "from rich import print as rprint # For rprinting\n",
    "from rich.pretty import pprint # For pretty printing\n",
    "from rich import inspect # For inspect\n",
    "from rich.console import Console # For console.print\n",
    "from rich.markdown import Markdown # For markdown\n",
    "from rich.panel import Panel # For Panel()\n",
    "from rich import box # For Panel Boxes\n",
    "from rich.prompt import Prompt # For Prompting \n",
    "console = Console() # Standard code to access console\n",
    "# -------------------------------------------------------"
   ]
  },
  {
   "cell_type": "markdown",
   "id": "eb5c328e",
   "metadata": {
    "papermill": {
     "duration": 0.002587,
     "end_time": "2024-03-23T12:17:57.090114",
     "exception": false,
     "start_time": "2024-03-23T12:17:57.087527",
     "status": "completed"
    },
    "tags": []
   },
   "source": [
    "## WritingLatexWithMarkdown\n",
    "In this notebook, write the equations usind markdown directly\n",
    "\n",
    "## InlinePussy\n",
    "\n",
    "The equation $E=mc^2$ is written `$E=mc^2$`\n",
    "\n",
    "## MultiLinePanty\n",
    "\n",
    "The following equation --->\n",
    "\n",
    "\\begin{equation}\n",
    "F(a, b, c) = \\sum_{i=1}^{N} (y_i - f(x_i ; a, b, c))^2\n",
    "\\end{equation}\n",
    "\n",
    "\\begin{align}\n",
    "A &= \\pi r^2 \\\\\n",
    "V &= \\frac{4}{3}\\pi r^3\n",
    "\\end{align}\n",
    "\n",
    "is written like this \n",
    "\n",
    "```latex\n",
    "\\begin{equation}\n",
    "F(a, b, c) = \\sum_{i=1}^{N} (y_i - f(x_i ; a, b, c))^2\n",
    "\\end{equation}\n",
    "\n",
    "\\begin{align}\n",
    "A &= \\pi r^2 \\\\\n",
    "V &= \\frac{4}{3}\\pi r^3\n",
    "\\end{align}\n",
    "```"
   ]
  },
  {
   "cell_type": "code",
   "execution_count": null,
   "id": "e11a62c3",
   "metadata": {
    "papermill": {
     "duration": 0.002589,
     "end_time": "2024-03-23T12:17:57.095500",
     "exception": false,
     "start_time": "2024-03-23T12:17:57.092911",
     "status": "completed"
    },
    "tags": []
   },
   "outputs": [],
   "source": []
  }
 ],
 "metadata": {
  "kaggle": {
   "accelerator": "none",
   "dataSources": [],
   "dockerImageVersionId": 30673,
   "isGpuEnabled": false,
   "isInternetEnabled": true,
   "language": "python",
   "sourceType": "notebook"
  },
  "kernelspec": {
   "display_name": "Python 3",
   "language": "python",
   "name": "python3"
  },
  "language_info": {
   "codemirror_mode": {
    "name": "ipython",
    "version": 3
   },
   "file_extension": ".py",
   "mimetype": "text/x-python",
   "name": "python",
   "nbconvert_exporter": "python",
   "pygments_lexer": "ipython3",
   "version": "3.10.13"
  },
  "papermill": {
   "default_parameters": {},
   "duration": 3.796391,
   "end_time": "2024-03-23T12:17:57.519843",
   "environment_variables": {},
   "exception": null,
   "input_path": "__notebook__.ipynb",
   "output_path": "__notebook__.ipynb",
   "parameters": {},
   "start_time": "2024-03-23T12:17:53.723452",
   "version": "2.5.0"
  }
 },
 "nbformat": 4,
 "nbformat_minor": 5
}
